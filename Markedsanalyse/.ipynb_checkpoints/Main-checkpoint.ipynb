{
 "cells": [
  {
   "cell_type": "code",
   "execution_count": 1,
   "id": "cfeff5e3-e80f-492a-bf79-2423467e8874",
   "metadata": {},
   "outputs": [],
   "source": [
    "import requests\n",
    "import os\n",
    "from methods import twitch as tw\n",
    "\n",
    "%load_ext autoreload\n",
    "%autoreload 2"
   ]
  },
  {
   "cell_type": "code",
   "execution_count": 70,
   "id": "61573d7a-8b91-43ef-ac25-c7e998a2513d",
   "metadata": {},
   "outputs": [],
   "source": [
    "streams_response = requests.get(url = \"https://api.twitch.tv/helix/games/top\", params = {'first' : 10, 'after': 'eyJzIjoxMCwiZCI6ZmFsc2UsInQiOnRydWV9'}, headers = tw.get_headers())"
   ]
  },
  {
   "cell_type": "code",
   "execution_count": 314,
   "id": "27a99635-7188-4692-a459-67ad94693d6e",
   "metadata": {},
   "outputs": [],
   "source": [
    "viewers, country_viewers = tw.viewers_per_game(params = {\"game_id\" : \"516575\", \"first\" : \"100\"}, game_id = \"509658\")"
   ]
  },
  {
   "cell_type": "code",
   "execution_count": 316,
   "id": "b8eb8c74-2bc1-4dbb-b6b9-1c81f4acdf62",
   "metadata": {},
   "outputs": [
    {
     "data": {
      "text/plain": [
       "{'en': 33406,\n",
       " 'sp': 7931,\n",
       " 'pt': 10708,\n",
       " 'de': 10386,\n",
       " 'ru': 6651,\n",
       " 'fr': 4615,\n",
       " 'ko': 26574,\n",
       " 'ja': 49070,\n",
       " 'ch': 9556,\n",
       " 'it': 1492,\n",
       " 'ot': 12545}"
      ]
     },
     "execution_count": 316,
     "metadata": {},
     "output_type": "execute_result"
    }
   ],
   "source": [
    "country_viewers"
   ]
  }
 ],
 "metadata": {
  "kernelspec": {
   "display_name": "Python 3 (ipykernel)",
   "language": "python",
   "name": "python3"
  },
  "language_info": {
   "codemirror_mode": {
    "name": "ipython",
    "version": 3
   },
   "file_extension": ".py",
   "mimetype": "text/x-python",
   "name": "python",
   "nbconvert_exporter": "python",
   "pygments_lexer": "ipython3",
   "version": "3.10.10"
  }
 },
 "nbformat": 4,
 "nbformat_minor": 5
}
