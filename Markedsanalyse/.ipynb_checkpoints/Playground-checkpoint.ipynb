{
 "cells": [
  {
   "cell_type": "code",
   "execution_count": 1,
   "id": "cfeff5e3-e80f-492a-bf79-2423467e8874",
   "metadata": {},
   "outputs": [],
   "source": [
    "import requests\n",
    "import os\n",
    "from methods import twitch as tw\n",
    "from methods import dataprocessing as dp\n",
    "import pandas as pd\n",
    "import datetime as dt\n",
    "\n",
    "%load_ext autoreload\n",
    "%autoreload 2"
   ]
  },
  {
   "cell_type": "code",
   "execution_count": 29,
   "id": "93d95230-f62d-4823-97a4-9777fdaeff69",
   "metadata": {},
   "outputs": [],
   "source": [
    "time, viewers, country_viewers = tw.loop_through_games()"
   ]
  },
  {
   "cell_type": "code",
   "execution_count": 31,
   "id": "58e6d3f2-1c93-472c-a38f-4d6db6525e0e",
   "metadata": {},
   "outputs": [
    {
     "data": {
      "text/plain": [
       "{'Dota 2': 224410,\n",
       " 'VALORANT': 171366,\n",
       " 'League of Legends': 146738,\n",
       " 'Grand Theft Auto V': 97246,\n",
       " 'Counter-Strike: Global Offensive': 71428,\n",
       " 'MapleStory': 49077,\n",
       " 'Teamfight Tactics': 44050,\n",
       " 'Apex Legends': 38609,\n",
       " 'Diablo IV': 40148,\n",
       " 'Street Fighter 6': 38828,\n",
       " 'FIFA 23': 30667,\n",
       " 'Fortnite': 35931,\n",
       " 'Call of Duty: Warzone': 28003,\n",
       " 'Minecraft': 28242,\n",
       " 'Escape from Tarkov': 27318,\n",
       " 'Dave the Diver': 17805,\n",
       " 'Dead by Daylight': 26751,\n",
       " 'Black Desert': 26641,\n",
       " 'FINAL FANTASY XVI': 26137,\n",
       " 'Only Up!': 27126,\n",
       " 'Genshin Impact': 25237,\n",
       " 'World of Warcraft': 25069,\n",
       " 'Overwatch 2': 20082,\n",
       " 'The Isle': 15926,\n",
       " 'PUBG: BATTLEGROUNDS': 13104,\n",
       " 'Albion Online': 11434,\n",
       " 'Hearthstone': 11379,\n",
       " 'Sekiro: Shadows Die Twice': 11037,\n",
       " 'Lost Ark': 9151,\n",
       " 'BattleBit Remastered': 7674,\n",
       " 'New World': 8108,\n",
       " 'Persona 5 Royal': 6655,\n",
       " 'Rocket League': 6860,\n",
       " 'Fall Guys': 6313,\n",
       " 'Trackmania': 6324,\n",
       " 'DayZ': 5625,\n",
       " 'SMITE': 11544,\n",
       " 'Shogun Showdown': 5788,\n",
       " 'Poly Bridge 3': 5590,\n",
       " 'FINAL FANTASY XIV ONLINE': 3471,\n",
       " 'Pokémon Platinum': 5668,\n",
       " \"Tom Clancy's Rainbow Six Siege\": 4956,\n",
       " 'World of Tanks': 5390,\n",
       " 'Old School RuneScape': 5301,\n",
       " 'Call of Duty: Modern Warfare II': 5068,\n",
       " 'Hunt: Showdown': 5107,\n",
       " 'Doki Doki Literature Club!': 4995,\n",
       " 'Journey to the West': 4965,\n",
       " '7 Days to Die': 5488,\n",
       " 'Special Events': 1570}"
      ]
     },
     "execution_count": 31,
     "metadata": {},
     "output_type": "execute_result"
    }
   ],
   "source": [
    "viewers"
   ]
  },
  {
   "cell_type": "code",
   "execution_count": 30,
   "id": "223649f2-f56c-4c2b-a73f-6a4517a19a0f",
   "metadata": {},
   "outputs": [
    {
     "data": {
      "text/plain": [
       "'06/07/2023 16:29'"
      ]
     },
     "execution_count": 30,
     "metadata": {},
     "output_type": "execute_result"
    }
   ],
   "source": [
    "time"
   ]
  }
 ],
 "metadata": {
  "kernelspec": {
   "display_name": "Python 3 (ipykernel)",
   "language": "python",
   "name": "python3"
  },
  "language_info": {
   "codemirror_mode": {
    "name": "ipython",
    "version": 3
   },
   "file_extension": ".py",
   "mimetype": "text/x-python",
   "name": "python",
   "nbconvert_exporter": "python",
   "pygments_lexer": "ipython3",
   "version": "3.10.10"
  }
 },
 "nbformat": 4,
 "nbformat_minor": 5
}
