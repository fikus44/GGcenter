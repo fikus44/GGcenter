{
 "cells": [
  {
   "cell_type": "code",
   "execution_count": 1,
   "id": "cfeff5e3-e80f-492a-bf79-2423467e8874",
   "metadata": {},
   "outputs": [],
   "source": [
    "import requests\n",
    "import os\n",
    "from methods import twitch as tw\n",
    "\n",
    "%load_ext autoreload\n",
    "%autoreload 2"
   ]
  },
  {
   "cell_type": "code",
   "execution_count": 70,
   "id": "61573d7a-8b91-43ef-ac25-c7e998a2513d",
   "metadata": {},
   "outputs": [],
   "source": [
    "streams_response = requests.get(url = \"https://api.twitch.tv/helix/games/top\", params = {'first' : 10, 'after': 'eyJzIjoxMCwiZCI6ZmFsc2UsInQiOnRydWV9'}, headers = tw.get_headers())"
   ]
  },
  {
   "cell_type": "code",
   "execution_count": 314,
   "id": "27a99635-7188-4692-a459-67ad94693d6e",
   "metadata": {},
   "outputs": [],
   "source": [
    "viewers, country_viewers = tw.viewers_per_game(params = {\"game_id\" : \"516575\", \"first\" : \"100\"}, game_id = \"509658\")"
   ]
  },
  {
   "cell_type": "code",
   "execution_count": 316,
   "id": "b8eb8c74-2bc1-4dbb-b6b9-1c81f4acdf62",
   "metadata": {},
   "outputs": [
    {
     "data": {
      "text/plain": [
       "{'en': 33406,\n",
       " 'sp': 7931,\n",
       " 'pt': 10708,\n",
       " 'de': 10386,\n",
       " 'ru': 6651,\n",
       " 'fr': 4615,\n",
       " 'ko': 26574,\n",
       " 'ja': 49070,\n",
       " 'ch': 9556,\n",
       " 'it': 1492,\n",
       " 'ot': 12545}"
      ]
     },
     "execution_count": 316,
     "metadata": {},
     "output_type": "execute_result"
    }
   ],
   "source": [
    "country_viewers"
   ]
  },
  {
   "cell_type": "code",
   "execution_count": 3,
   "id": "d7b41dd2-4732-4902-98b0-03bb2bf64e40",
   "metadata": {},
   "outputs": [],
   "source": [
    "test_name, test_id = tw.top_games()"
   ]
  },
  {
   "cell_type": "code",
   "execution_count": 7,
   "id": "fc451736-03fd-4ee2-a4a3-d1b5535cfd64",
   "metadata": {},
   "outputs": [],
   "source": [
    "test_dict = dict.fromkeys(test_name)"
   ]
  },
  {
   "cell_type": "code",
   "execution_count": 2,
   "id": "93d95230-f62d-4823-97a4-9777fdaeff69",
   "metadata": {},
   "outputs": [],
   "source": [
    "viewers, country_viewers = tw.loop_through_games()"
   ]
  },
  {
   "cell_type": "code",
   "execution_count": 5,
   "id": "0ae8ad74-9dca-4e7c-a674-5700a2723de1",
   "metadata": {},
   "outputs": [],
   "source": [
    "games = tw.top_games()"
   ]
  },
  {
   "cell_type": "code",
   "execution_count": 6,
   "id": "5a6318c0-0d84-497c-962c-9f98487d0973",
   "metadata": {},
   "outputs": [
    {
     "data": {
      "text/plain": [
       "[('Just Chatting', '509658'),\n",
       " ('Dota 2', '29595'),\n",
       " ('VALORANT', '516575'),\n",
       " ('League of Legends', '21779'),\n",
       " ('Grand Theft Auto V', '32982'),\n",
       " ('Counter-Strike: Global Offensive', '32399'),\n",
       " ('Teamfight Tactics', '513143'),\n",
       " ('Board Games', '490413'),\n",
       " ('Street Fighter 6', '55453844'),\n",
       " ('Apex Legends', '511224'),\n",
       " ('Fortnite', '33214'),\n",
       " ('Diablo IV', '515024'),\n",
       " ('Casino Slot Machine', '1767487238'),\n",
       " ('FIFA 23', '1745202732'),\n",
       " ('Sports', '518203'),\n",
       " ('Minecraft', '27471'),\n",
       " ('Black Desert', '386821'),\n",
       " ('FINAL FANTASY XVI', '2090279789'),\n",
       " ('MapleStory', '19976'),\n",
       " ('Genshin Impact', '513181'),\n",
       " ('Call of Duty: Warzone', '512710'),\n",
       " ('World of Warcraft', '18122'),\n",
       " ('Dave the Diver', '1470211036'),\n",
       " ('Slots', '498566'),\n",
       " ('Dead by Daylight', '491487'),\n",
       " ('Overwatch 2', '515025'),\n",
       " ('Music', '26936'),\n",
       " ('Dating Simulator', '203542608'),\n",
       " ('Only Up!', '245018539'),\n",
       " ('The Isle', '490948'),\n",
       " ('Art', '509660'),\n",
       " ('PUBG: BATTLEGROUNDS', '493057'),\n",
       " ('Escape from Tarkov', '491931'),\n",
       " ('Albion Online', '417528'),\n",
       " ('Hearthstone', '138585'),\n",
       " ('Travel & Outdoors', '509672'),\n",
       " ('ASMR', '509659'),\n",
       " ('Lost Ark', '490100'),\n",
       " ('Sekiro: Shadows Die Twice', '506415'),\n",
       " ('Talk Shows & Podcasts', '417752'),\n",
       " ('Chess', '743'),\n",
       " ('Persona 5 Royal', '511864'),\n",
       " ('Fall Guys', '512980'),\n",
       " ('Pools, Hot Tubs, and Beaches', '116747788'),\n",
       " ('BattleBit Remastered', '496916'),\n",
       " ('SMITE', '32507'),\n",
       " ('ELDEN RING', '512953'),\n",
       " ('Pokémon Platinum', '19745'),\n",
       " ('Old School RuneScape', '459931'),\n",
       " ('Shogun Showdown', '1568318442'),\n",
       " ('Doki Doki Literature Club!', '497527'),\n",
       " ('FINAL FANTASY XIV ONLINE', '24241'),\n",
       " ('PowerWash Simulator', '519103'),\n",
       " ('Poly Bridge 3', '1502494668'),\n",
       " ('Trackmania', '687129551'),\n",
       " ('New World', '493597'),\n",
       " ('Garena Free Fire', '502732'),\n",
       " (\"I'm Only Sleeping\", '498592'),\n",
       " ('Rust', '263490'),\n",
       " ('The Outlast Trials', '518144'),\n",
       " ('Magic: The Gathering', '2748'),\n",
       " ('Hunt: Showdown', '500188'),\n",
       " ('Call of Duty: Modern Warfare II', '1678052513'),\n",
       " ('Retro', '27284'),\n",
       " (\"Tom Clancy's Rainbow Six Siege\", '460630'),\n",
       " ('Rocket League', '30921'),\n",
       " ('Project Zomboid', '31339'),\n",
       " ('DayZ', '65632'),\n",
       " ('World of Tanks', '27546'),\n",
       " ('Virtual Casino', '29452')]"
      ]
     },
     "execution_count": 6,
     "metadata": {},
     "output_type": "execute_result"
    }
   ],
   "source": [
    "games"
   ]
  }
 ],
 "metadata": {
  "kernelspec": {
   "display_name": "Python 3 (ipykernel)",
   "language": "python",
   "name": "python3"
  },
  "language_info": {
   "codemirror_mode": {
    "name": "ipython",
    "version": 3
   },
   "file_extension": ".py",
   "mimetype": "text/x-python",
   "name": "python",
   "nbconvert_exporter": "python",
   "pygments_lexer": "ipython3",
   "version": "3.10.10"
  }
 },
 "nbformat": 4,
 "nbformat_minor": 5
}
