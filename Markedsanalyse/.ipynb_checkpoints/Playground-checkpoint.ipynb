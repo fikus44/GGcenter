{
 "cells": [
  {
   "cell_type": "code",
   "execution_count": 102,
   "id": "cfeff5e3-e80f-492a-bf79-2423467e8874",
   "metadata": {},
   "outputs": [
    {
     "name": "stdout",
     "output_type": "stream",
     "text": [
      "The autoreload extension is already loaded. To reload it, use:\n",
      "  %reload_ext autoreload\n"
     ]
    }
   ],
   "source": [
    "import requests\n",
    "import os\n",
    "from methods import twitch as tw\n",
    "from methods import dataprocessing as dp\n",
    "import pandas as pd\n",
    "import datetime as dt\n",
    "\n",
    "%load_ext autoreload\n",
    "%autoreload 2"
   ]
  },
  {
   "cell_type": "code",
   "execution_count": 105,
   "id": "a40ac99b-9450-4aa3-82c5-9d26a72a34b5",
   "metadata": {},
   "outputs": [],
   "source": [
    "time, seere, seere_spg = tw.loop_through_games()\n",
    "tester, tester_spg = dp.dataprocessing(dict = seere, dict_language = seere_spg, time = time)"
   ]
  }
 ],
 "metadata": {
  "kernelspec": {
   "display_name": "Python 3 (ipykernel)",
   "language": "python",
   "name": "python3"
  },
  "language_info": {
   "codemirror_mode": {
    "name": "ipython",
    "version": 3
   },
   "file_extension": ".py",
   "mimetype": "text/x-python",
   "name": "python",
   "nbconvert_exporter": "python",
   "pygments_lexer": "ipython3",
   "version": "3.10.10"
  }
 },
 "nbformat": 4,
 "nbformat_minor": 5
}
