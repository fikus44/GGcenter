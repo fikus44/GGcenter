{
 "cells": [
  {
   "cell_type": "code",
   "execution_count": 1,
   "id": "cfeff5e3-e80f-492a-bf79-2423467e8874",
   "metadata": {},
   "outputs": [],
   "source": [
    "import requests\n",
    "import os\n",
    "import Twitch as Tw\n",
    "\n",
    "%load_ext autoreload\n",
    "%autoreload 2"
   ]
  },
  {
   "cell_type": "code",
   "execution_count": 4,
   "id": "59d0871d-c6c2-40ad-9dbe-7f3f59f92fca",
   "metadata": {},
   "outputs": [],
   "source": [
    "access_token = Tw.get_access_token()"
   ]
  },
  {
   "cell_type": "code",
   "execution_count": 5,
   "id": "25d0b11a-9ea4-4425-a1be-77147eb442e0",
   "metadata": {},
   "outputs": [
    {
     "data": {
      "text/plain": [
       "'twthmnskr1yz4rliyjxasikvjvgg5x'"
      ]
     },
     "execution_count": 5,
     "metadata": {},
     "output_type": "execute_result"
    }
   ],
   "source": [
    "access_token"
   ]
  },
  {
   "cell_type": "code",
   "execution_count": 7,
   "id": "78b20988-95f1-4dbe-a5ed-3ef14afb0f8f",
   "metadata": {},
   "outputs": [
    {
     "name": "stdout",
     "output_type": "stream",
     "text": [
      "b'{\"client_id\":\"rnieacdcie9x4c9w7omdkz6wkoerbw\",\"scopes\":null,\"expires_in\":4705306}\\n'\n"
     ]
    }
   ],
   "source": [
    "Tw.validate_auth(access_token)"
   ]
  },
  {
   "cell_type": "code",
   "execution_count": 7,
   "id": "c9e2601a-c2eb-420b-9951-f1502abda07a",
   "metadata": {},
   "outputs": [
    {
     "name": "stdout",
     "output_type": "stream",
     "text": [
      "{\"access_token\":\"r88p4nc3nxsyjkg5kv1ahnw8sr644y\",\"expires_in\":4758576,\"token_type\":\"bearer\"}\n",
      "\n"
     ]
    }
   ],
   "source": [
    "url = 'https://id.twitch.tv/oauth2/token'\n",
    "\n",
    "post_request_param = {'client_id': 'rnieacdcie9x4c9w7omdkz6wkoerbw', \n",
    "         'client_secret': 'jjl0l4woykx809vn6ca8di5vd5rt22',\n",
    "         'grant_type': 'client_credentials'}\n",
    "\n",
    "response = requests.post(url, json = post_request_param)\n",
    "\n",
    "print(response.text)"
   ]
  },
  {
   "cell_type": "code",
   "execution_count": 24,
   "id": "3c4e949d-fe65-448d-81f6-ee54767bce66",
   "metadata": {},
   "outputs": [],
   "source": [
    "auth_response_json = response.json()"
   ]
  },
  {
   "cell_type": "code",
   "execution_count": 25,
   "id": "e2dcda9c-fadb-4c7e-9512-a0cd898d5430",
   "metadata": {},
   "outputs": [
    {
     "data": {
      "text/plain": [
       "{'access_token': 'r88p4nc3nxsyjkg5kv1ahnw8sr644y',\n",
       " 'expires_in': 4758576,\n",
       " 'token_type': 'bearer'}"
      ]
     },
     "execution_count": 25,
     "metadata": {},
     "output_type": "execute_result"
    }
   ],
   "source": [
    "auth_response_json"
   ]
  },
  {
   "cell_type": "code",
   "execution_count": 27,
   "id": "ea533fc1-080b-4051-be84-3645c5f7ac4a",
   "metadata": {},
   "outputs": [
    {
     "data": {
      "text/plain": [
       "'r88p4nc3nxsyjkg5kv1ahnw8sr644y'"
      ]
     },
     "execution_count": 27,
     "metadata": {},
     "output_type": "execute_result"
    }
   ],
   "source": [
    "auth_response_json['access_token']"
   ]
  }
 ],
 "metadata": {
  "kernelspec": {
   "display_name": "Python 3 (ipykernel)",
   "language": "python",
   "name": "python3"
  },
  "language_info": {
   "codemirror_mode": {
    "name": "ipython",
    "version": 3
   },
   "file_extension": ".py",
   "mimetype": "text/x-python",
   "name": "python",
   "nbconvert_exporter": "python",
   "pygments_lexer": "ipython3",
   "version": "3.10.10"
  }
 },
 "nbformat": 4,
 "nbformat_minor": 5
}
