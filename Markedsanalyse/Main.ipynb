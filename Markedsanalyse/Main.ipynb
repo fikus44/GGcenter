{
 "cells": [
  {
   "cell_type": "code",
   "execution_count": 1,
   "id": "cfeff5e3-e80f-492a-bf79-2423467e8874",
   "metadata": {},
   "outputs": [],
   "source": [
    "import requests\n",
    "import os\n",
    "from methods import twitch as tw\n",
    "\n",
    "%load_ext autoreload\n",
    "%autoreload 2"
   ]
  },
  {
   "cell_type": "code",
   "execution_count": 70,
   "id": "61573d7a-8b91-43ef-ac25-c7e998a2513d",
   "metadata": {},
   "outputs": [],
   "source": [
    "streams_response = requests.get(url = \"https://api.twitch.tv/helix/games/top\", params = {'first' : 10, 'after': 'eyJzIjoxMCwiZCI6ZmFsc2UsInQiOnRydWV9'}, headers = tw.get_headers())"
   ]
  },
  {
   "cell_type": "code",
   "execution_count": 314,
   "id": "27a99635-7188-4692-a459-67ad94693d6e",
   "metadata": {},
   "outputs": [],
   "source": [
    "viewers, country_viewers = tw.viewers_per_game(params = {\"game_id\" : \"516575\", \"first\" : \"100\"}, game_id = \"509658\")"
   ]
  },
  {
   "cell_type": "code",
   "execution_count": 316,
   "id": "b8eb8c74-2bc1-4dbb-b6b9-1c81f4acdf62",
   "metadata": {},
   "outputs": [
    {
     "data": {
      "text/plain": [
       "{'en': 33406,\n",
       " 'sp': 7931,\n",
       " 'pt': 10708,\n",
       " 'de': 10386,\n",
       " 'ru': 6651,\n",
       " 'fr': 4615,\n",
       " 'ko': 26574,\n",
       " 'ja': 49070,\n",
       " 'ch': 9556,\n",
       " 'it': 1492,\n",
       " 'ot': 12545}"
      ]
     },
     "execution_count": 316,
     "metadata": {},
     "output_type": "execute_result"
    }
   ],
   "source": [
    "country_viewers"
   ]
  },
  {
   "cell_type": "code",
   "execution_count": 3,
   "id": "d7b41dd2-4732-4902-98b0-03bb2bf64e40",
   "metadata": {},
   "outputs": [],
   "source": [
    "test_name, test_id = tw.top_games()"
   ]
  },
  {
   "cell_type": "code",
   "execution_count": 7,
   "id": "fc451736-03fd-4ee2-a4a3-d1b5535cfd64",
   "metadata": {},
   "outputs": [],
   "source": [
    "test_dict = dict.fromkeys(test_name)"
   ]
  },
  {
   "cell_type": "code",
   "execution_count": 36,
   "id": "93d95230-f62d-4823-97a4-9777fdaeff69",
   "metadata": {},
   "outputs": [],
   "source": [
    "viewers, country_viewers = tw.loop_through_games()"
   ]
  },
  {
   "cell_type": "code",
   "execution_count": 37,
   "id": "a3110524-9806-4fc9-abec-c2f67940196c",
   "metadata": {},
   "outputs": [
    {
     "data": {
      "text/plain": [
       "{'VALORANT': 159396,\n",
       " 'League of Legends': 140984,\n",
       " 'Dota 2': 129054,\n",
       " 'Grand Theft Auto V': 119820,\n",
       " 'Teamfight Tactics': 55997,\n",
       " 'Counter-Strike: Global Offensive': 55567,\n",
       " 'Fortnite': 38336,\n",
       " 'MapleStory': 41953}"
      ]
     },
     "execution_count": 37,
     "metadata": {},
     "output_type": "execute_result"
    }
   ],
   "source": [
    "viewers"
   ]
  },
  {
   "cell_type": "code",
   "execution_count": 26,
   "id": "799a84f4-47bd-4d54-9e37-88facdae6f88",
   "metadata": {},
   "outputs": [
    {
     "data": {
      "text/plain": [
       "{'Sports': 166743,\n",
       " 'VALORANT': 156481,\n",
       " 'Dota 2': 151454,\n",
       " 'League of Legends': 116508,\n",
       " 'Grand Theft Auto V': 115960,\n",
       " 'Teamfight Tactics': 53714,\n",
       " 'Counter-Strike: Global Offensive': 49833,\n",
       " 'MapleStory': 41696,\n",
       " 'Fortnite': 38068}"
      ]
     },
     "execution_count": 26,
     "metadata": {},
     "output_type": "execute_result"
    }
   ],
   "source": [
    "viewers"
   ]
  },
  {
   "cell_type": "code",
   "execution_count": 54,
   "id": "0ae8ad74-9dca-4e7c-a674-5700a2723de1",
   "metadata": {},
   "outputs": [],
   "source": [
    "test_name, test_id = tw.top_games()"
   ]
  },
  {
   "cell_type": "code",
   "execution_count": 57,
   "id": "bfa0c86b-3424-4052-87fd-6b592dd23e70",
   "metadata": {},
   "outputs": [
    {
     "data": {
      "text/plain": [
       "['Dota 2',\n",
       " 'VALORANT',\n",
       " 'League of Legends',\n",
       " 'Grand Theft Auto V',\n",
       " 'Counter-Strike: Global Offensive',\n",
       " 'Teamfight Tactics',\n",
       " 'Apex Legends',\n",
       " 'Dead by Daylight',\n",
       " 'Diablo IV',\n",
       " 'Fortnite',\n",
       " 'MapleStory',\n",
       " 'Genshin Impact',\n",
       " 'Call of Duty: Warzone',\n",
       " 'World of Warcraft',\n",
       " 'Street Fighter 6',\n",
       " 'Minecraft',\n",
       " 'Black Desert',\n",
       " 'FIFA 23',\n",
       " 'Only Up!',\n",
       " 'FINAL FANTASY XVI',\n",
       " 'Overwatch 2',\n",
       " 'Escape from Tarkov',\n",
       " 'Psych',\n",
       " 'Grounded',\n",
       " 'Hearthstone',\n",
       " 'Albion Online',\n",
       " 'Lost Ark',\n",
       " 'Dave the Diver',\n",
       " 'The Legend of Zelda: Tears of the Kingdom',\n",
       " 'Mir Tankov',\n",
       " 'Persona 5 Royal',\n",
       " 'Sekiro: Shadows Die Twice',\n",
       " 'DARK SOULS III',\n",
       " 'BattleBit Remastered',\n",
       " 'PUBG: BATTLEGROUNDS',\n",
       " 'Rocket League',\n",
       " 'Red Dead Redemption 2',\n",
       " 'DayZ',\n",
       " 'Trackmania',\n",
       " 'Old School RuneScape',\n",
       " 'World of Tanks',\n",
       " 'Poly Bridge 3',\n",
       " 'ELDEN RING',\n",
       " 'Hunt: Showdown',\n",
       " 'Call of Duty: Modern Warfare II',\n",
       " 'Dark Souls: Remastered',\n",
       " 'Super Mario World',\n",
       " \"Tom Clancy's Rainbow Six Siege\",\n",
       " 'Fall Guys',\n",
       " 'Subnautica']"
      ]
     },
     "execution_count": 57,
     "metadata": {},
     "output_type": "execute_result"
    }
   ],
   "source": [
    "test_name"
   ]
  }
 ],
 "metadata": {
  "kernelspec": {
   "display_name": "Python 3 (ipykernel)",
   "language": "python",
   "name": "python3"
  },
  "language_info": {
   "codemirror_mode": {
    "name": "ipython",
    "version": 3
   },
   "file_extension": ".py",
   "mimetype": "text/x-python",
   "name": "python",
   "nbconvert_exporter": "python",
   "pygments_lexer": "ipython3",
   "version": "3.10.10"
  }
 },
 "nbformat": 4,
 "nbformat_minor": 5
}
